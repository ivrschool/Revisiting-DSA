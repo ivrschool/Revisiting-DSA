{
 "cells": [
  {
   "cell_type": "code",
   "execution_count": 1,
   "id": "aa547c77",
   "metadata": {},
   "outputs": [],
   "source": [
    "class Node:\n",
    "    def __init__(self, data=None):\n",
    "        self.data = data\n",
    "        self.next = None"
   ]
  },
  {
   "cell_type": "code",
   "execution_count": 54,
   "id": "f28d48bc",
   "metadata": {},
   "outputs": [],
   "source": [
    "head = Node(1)\n",
    "head.next = Node(2)\n",
    "head.next.next = Node(5)\n",
    "head.next.next.next = Node(6)\n",
    "head.next.next.next.next = Node(7)\n",
    "\n"
   ]
  },
  {
   "cell_type": "code",
   "execution_count": 55,
   "id": "40d16df7",
   "metadata": {},
   "outputs": [],
   "source": [
    "def printLinkedList(head):\n",
    "    while head:\n",
    "        print(head.data)\n",
    "        head = head.next\n",
    "    "
   ]
  },
  {
   "cell_type": "code",
   "execution_count": 57,
   "id": "8d380aa8",
   "metadata": {},
   "outputs": [
    {
     "name": "stdout",
     "output_type": "stream",
     "text": [
      "1\n",
      "2\n",
      "5\n",
      "6\n",
      "7\n"
     ]
    }
   ],
   "source": [
    "printLinkedList(head)"
   ]
  },
  {
   "cell_type": "code",
   "execution_count": 58,
   "id": "00a07aa0",
   "metadata": {},
   "outputs": [],
   "source": [
    "\n",
    "\n",
    "head = Node()         # placeholder node\n",
    "current = head        # pointer to build the list\n",
    "\n",
    "for i in range(5):\n",
    "    if i == 0:\n",
    "        current.data = i     # set the first node's data\n",
    "    else:\n",
    "        current.next = Node(i)  # attach new node\n",
    "        current = current.next  # move pointer forward\n",
    "\n"
   ]
  },
  {
   "cell_type": "code",
   "execution_count": 59,
   "id": "ffcb5ee0",
   "metadata": {},
   "outputs": [
    {
     "name": "stdout",
     "output_type": "stream",
     "text": [
      "0\n",
      "1\n",
      "2\n",
      "3\n",
      "4\n"
     ]
    }
   ],
   "source": [
    "printLinkedList(head)"
   ]
  },
  {
   "cell_type": "code",
   "execution_count": 60,
   "id": "8e8981dc",
   "metadata": {},
   "outputs": [],
   "source": [
    "def build_linked_list(values):\n",
    "    if not values:\n",
    "        return None\n",
    "\n",
    "    head = Node(values[0])\n",
    "    current = head\n",
    "\n",
    "    for val in values[1:]:\n",
    "        current.next = Node(val)\n",
    "        current = current.next\n",
    "\n",
    "    return head\n",
    "\n"
   ]
  },
  {
   "cell_type": "code",
   "execution_count": 66,
   "id": "3464ab9a",
   "metadata": {},
   "outputs": [
    {
     "name": "stdout",
     "output_type": "stream",
     "text": [
      "2\n",
      "3\n",
      "5\n",
      "6\n",
      "7\n",
      "8\n"
     ]
    }
   ],
   "source": [
    "head = build_linked_list([2,3,5,6,7,8])\n",
    "\n",
    "printLinkedList(head)"
   ]
  },
  {
   "cell_type": "code",
   "execution_count": 67,
   "id": "dec83f0f",
   "metadata": {},
   "outputs": [],
   "source": [
    "def reverseLinkedList(head):\n",
    "    prev = None\n",
    "    curr = head\n",
    "\n",
    "    while curr:\n",
    "        next_node = curr.next\n",
    "        curr.next = prev\n",
    "        prev = curr\n",
    "        curr = next_node\n",
    "    return prev"
   ]
  },
  {
   "cell_type": "code",
   "execution_count": 68,
   "id": "6346b7be",
   "metadata": {},
   "outputs": [
    {
     "name": "stdout",
     "output_type": "stream",
     "text": [
      "8\n",
      "7\n",
      "6\n",
      "5\n",
      "3\n",
      "2\n"
     ]
    }
   ],
   "source": [
    "printLinkedList(reverseLinkedList(head))"
   ]
  },
  {
   "cell_type": "code",
   "execution_count": null,
   "id": "b1dcb18d",
   "metadata": {},
   "outputs": [],
   "source": []
  }
 ],
 "metadata": {
  "kernelspec": {
   "display_name": ".venv",
   "language": "python",
   "name": "python3"
  },
  "language_info": {
   "codemirror_mode": {
    "name": "ipython",
    "version": 3
   },
   "file_extension": ".py",
   "mimetype": "text/x-python",
   "name": "python",
   "nbconvert_exporter": "python",
   "pygments_lexer": "ipython3",
   "version": "3.13.3"
  }
 },
 "nbformat": 4,
 "nbformat_minor": 5
}
