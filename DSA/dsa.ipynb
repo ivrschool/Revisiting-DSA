{
 "cells": [
  {
   "cell_type": "code",
   "execution_count": 69,
   "id": "aa547c77",
   "metadata": {},
   "outputs": [],
   "source": [
    "class Node:\n",
    "    def __init__(self, data=None):\n",
    "        self.data = data\n",
    "        self.next = None"
   ]
  },
  {
   "cell_type": "code",
   "execution_count": 70,
   "id": "f28d48bc",
   "metadata": {},
   "outputs": [],
   "source": [
    "head = Node(1)\n",
    "head.next = Node(2)\n",
    "head.next.next = Node(5)\n",
    "head.next.next.next = Node(6)\n",
    "head.next.next.next.next = Node(7)\n",
    "\n"
   ]
  },
  {
   "cell_type": "code",
   "execution_count": 71,
   "id": "40d16df7",
   "metadata": {},
   "outputs": [],
   "source": [
    "def printLinkedList(head):\n",
    "    while head:\n",
    "        print(head.data)\n",
    "        head = head.next\n",
    "    "
   ]
  },
  {
   "cell_type": "code",
   "execution_count": 72,
   "id": "8d380aa8",
   "metadata": {},
   "outputs": [
    {
     "name": "stdout",
     "output_type": "stream",
     "text": [
      "1\n",
      "2\n",
      "5\n",
      "6\n",
      "7\n"
     ]
    }
   ],
   "source": [
    "printLinkedList(head)"
   ]
  },
  {
   "cell_type": "code",
   "execution_count": 73,
   "id": "00a07aa0",
   "metadata": {},
   "outputs": [],
   "source": [
    "\n",
    "\n",
    "head = Node()         # placeholder node\n",
    "current = head        # pointer to build the list\n",
    "\n",
    "for i in range(5):\n",
    "    if i == 0:\n",
    "        current.data = i     # set the first node's data\n",
    "    else:\n",
    "        current.next = Node(i)  # attach new node\n",
    "        current = current.next  # move pointer forward\n",
    "\n"
   ]
  },
  {
   "cell_type": "code",
   "execution_count": 74,
   "id": "ffcb5ee0",
   "metadata": {},
   "outputs": [
    {
     "name": "stdout",
     "output_type": "stream",
     "text": [
      "0\n",
      "1\n",
      "2\n",
      "3\n",
      "4\n"
     ]
    }
   ],
   "source": [
    "printLinkedList(head)"
   ]
  },
  {
   "cell_type": "code",
   "execution_count": 75,
   "id": "8e8981dc",
   "metadata": {},
   "outputs": [],
   "source": [
    "def build_linked_list(values):\n",
    "    if not values:\n",
    "        return None\n",
    "\n",
    "    head = Node(values[0])\n",
    "    current = head\n",
    "\n",
    "    for val in values[1:]:\n",
    "        current.next = Node(val)\n",
    "        current = current.next\n",
    "\n",
    "    return head\n",
    "\n"
   ]
  },
  {
   "cell_type": "code",
   "execution_count": 76,
   "id": "3464ab9a",
   "metadata": {},
   "outputs": [
    {
     "name": "stdout",
     "output_type": "stream",
     "text": [
      "2\n",
      "3\n",
      "5\n",
      "6\n",
      "7\n",
      "8\n"
     ]
    }
   ],
   "source": [
    "head = build_linked_list([2,3,5,6,7,8])\n",
    "\n",
    "printLinkedList(head)"
   ]
  },
  {
   "cell_type": "code",
   "execution_count": 77,
   "id": "dec83f0f",
   "metadata": {},
   "outputs": [],
   "source": [
    "def reverseLinkedList(head):\n",
    "    prev = None\n",
    "    curr = head\n",
    "\n",
    "    while curr:\n",
    "        next_node = curr.next\n",
    "        curr.next = prev\n",
    "        prev = curr\n",
    "        curr = next_node\n",
    "    return prev"
   ]
  },
  {
   "cell_type": "code",
   "execution_count": 78,
   "id": "6346b7be",
   "metadata": {},
   "outputs": [
    {
     "name": "stdout",
     "output_type": "stream",
     "text": [
      "8\n",
      "7\n",
      "6\n",
      "5\n",
      "3\n",
      "2\n"
     ]
    }
   ],
   "source": [
    "printLinkedList(reverseLinkedList(head))"
   ]
  },
  {
   "cell_type": "code",
   "execution_count": 128,
   "id": "b1dcb18d",
   "metadata": {},
   "outputs": [
    {
     "name": "stdout",
     "output_type": "stream",
     "text": [
      "2\n",
      "3\n",
      "5\n",
      "6\n",
      "7\n",
      "8\n"
     ]
    }
   ],
   "source": [
    "head = build_linked_list([2,3,5,6,7,8])\n",
    "\n",
    "printLinkedList(head)"
   ]
  },
  {
   "cell_type": "code",
   "execution_count": 129,
   "id": "261fc345",
   "metadata": {},
   "outputs": [],
   "source": [
    "# if two middle return the 2nd\n",
    "def middleLinkedlist2nd(head):\n",
    "    slow = fast = head\n",
    "    while fast and fast.next:\n",
    "        slow = slow.next\n",
    "        fast = fast.next.next\n",
    "    return slow"
   ]
  },
  {
   "cell_type": "code",
   "execution_count": 130,
   "id": "068b69fc",
   "metadata": {},
   "outputs": [
    {
     "name": "stdout",
     "output_type": "stream",
     "text": [
      "6\n",
      "7\n",
      "8\n"
     ]
    }
   ],
   "source": [
    "printLinkedList(middleLinkedlist2nd(head))"
   ]
  },
  {
   "cell_type": "code",
   "execution_count": 115,
   "id": "42aa8bf1",
   "metadata": {},
   "outputs": [
    {
     "name": "stdout",
     "output_type": "stream",
     "text": [
      "2\n",
      "3\n",
      "5\n",
      "6\n",
      "7\n"
     ]
    }
   ],
   "source": [
    "head = build_linked_list([2,3,5,6,7])\n",
    "\n",
    "printLinkedList(head)"
   ]
  },
  {
   "cell_type": "code",
   "execution_count": 116,
   "id": "7501ba43",
   "metadata": {},
   "outputs": [
    {
     "data": {
      "text/plain": [
       "5"
      ]
     },
     "execution_count": 116,
     "metadata": {},
     "output_type": "execute_result"
    }
   ],
   "source": [
    "middleLinkedlist2nd(head)"
   ]
  },
  {
   "cell_type": "code",
   "execution_count": 117,
   "id": "5302d402",
   "metadata": {},
   "outputs": [],
   "source": [
    "# if two middle return the 1st\n",
    "def middleLinkedlist1st(head):\n",
    "    slow = fast = head\n",
    "    while fast.next and fast.next.next:\n",
    "        slow = slow.next\n",
    "        fast = fast.next.next\n",
    "    return slow.data"
   ]
  },
  {
   "cell_type": "code",
   "execution_count": 103,
   "id": "924bfed2",
   "metadata": {},
   "outputs": [
    {
     "data": {
      "text/plain": [
       "5"
      ]
     },
     "execution_count": 103,
     "metadata": {},
     "output_type": "execute_result"
    }
   ],
   "source": [
    "middleLinkedlist1st(head)"
   ]
  },
  {
   "cell_type": "code",
   "execution_count": 119,
   "id": "8802c238",
   "metadata": {},
   "outputs": [],
   "source": [
    "while None:\n",
    "    print(1)\n",
    "    break"
   ]
  },
  {
   "cell_type": "markdown",
   "id": "2c170d3e",
   "metadata": {},
   "source": [
    "# Stack from Array"
   ]
  },
  {
   "cell_type": "code",
   "execution_count": 132,
   "id": "fd940cb0",
   "metadata": {},
   "outputs": [],
   "source": [
    "from stack_from_array import Stack"
   ]
  },
  {
   "cell_type": "code",
   "execution_count": 133,
   "id": "9c446fb0",
   "metadata": {},
   "outputs": [],
   "source": [
    "stack = Stack(5)"
   ]
  },
  {
   "cell_type": "code",
   "execution_count": 134,
   "id": "fbf1491c",
   "metadata": {},
   "outputs": [
    {
     "data": {
      "text/plain": [
       "True"
      ]
     },
     "execution_count": 134,
     "metadata": {},
     "output_type": "execute_result"
    }
   ],
   "source": [
    "stack.push(1)\n",
    "stack.push(2)\n",
    "stack.push(3)\n",
    "stack.push(4)\n",
    "stack.push(5)"
   ]
  },
  {
   "cell_type": "code",
   "execution_count": 135,
   "id": "7c816fbd",
   "metadata": {},
   "outputs": [
    {
     "data": {
      "text/plain": [
       "5"
      ]
     },
     "execution_count": 135,
     "metadata": {},
     "output_type": "execute_result"
    }
   ],
   "source": [
    "stack.pop()"
   ]
  },
  {
   "cell_type": "code",
   "execution_count": 136,
   "id": "6d058bda",
   "metadata": {},
   "outputs": [
    {
     "data": {
      "text/plain": [
       "4"
      ]
     },
     "execution_count": 136,
     "metadata": {},
     "output_type": "execute_result"
    }
   ],
   "source": [
    "stack.pop()"
   ]
  },
  {
   "cell_type": "code",
   "execution_count": 138,
   "id": "a9a3937f",
   "metadata": {},
   "outputs": [
    {
     "data": {
      "text/plain": [
       "False"
      ]
     },
     "execution_count": 138,
     "metadata": {},
     "output_type": "execute_result"
    }
   ],
   "source": [
    "stack.isEmpty()"
   ]
  },
  {
   "cell_type": "code",
   "execution_count": 139,
   "id": "299d7813",
   "metadata": {},
   "outputs": [
    {
     "data": {
      "text/plain": [
       "3"
      ]
     },
     "execution_count": 139,
     "metadata": {},
     "output_type": "execute_result"
    }
   ],
   "source": [
    "stack.peek()"
   ]
  },
  {
   "cell_type": "code",
   "execution_count": 140,
   "id": "4243b86c",
   "metadata": {},
   "outputs": [
    {
     "data": {
      "text/plain": [
       "3"
      ]
     },
     "execution_count": 140,
     "metadata": {},
     "output_type": "execute_result"
    }
   ],
   "source": [
    "stack.peek()"
   ]
  },
  {
   "cell_type": "code",
   "execution_count": 141,
   "id": "253d1d75",
   "metadata": {},
   "outputs": [
    {
     "data": {
      "text/plain": [
       "True"
      ]
     },
     "execution_count": 141,
     "metadata": {},
     "output_type": "execute_result"
    }
   ],
   "source": [
    "stack.push(4)\n",
    "stack.push(5)\n"
   ]
  },
  {
   "cell_type": "code",
   "execution_count": 142,
   "id": "08445390",
   "metadata": {},
   "outputs": [
    {
     "name": "stdout",
     "output_type": "stream",
     "text": [
      "Stack is full\n"
     ]
    },
    {
     "data": {
      "text/plain": [
       "False"
      ]
     },
     "execution_count": 142,
     "metadata": {},
     "output_type": "execute_result"
    }
   ],
   "source": [
    "stack.push(6)"
   ]
  },
  {
   "cell_type": "code",
   "execution_count": null,
   "id": "a86c4924",
   "metadata": {},
   "outputs": [],
   "source": []
  }
 ],
 "metadata": {
  "kernelspec": {
   "display_name": ".venv",
   "language": "python",
   "name": "python3"
  },
  "language_info": {
   "codemirror_mode": {
    "name": "ipython",
    "version": 3
   },
   "file_extension": ".py",
   "mimetype": "text/x-python",
   "name": "python",
   "nbconvert_exporter": "python",
   "pygments_lexer": "ipython3",
   "version": "3.13.3"
  }
 },
 "nbformat": 4,
 "nbformat_minor": 5
}
